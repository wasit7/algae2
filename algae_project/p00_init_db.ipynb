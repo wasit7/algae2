{
 "cells": [
  {
   "cell_type": "code",
   "execution_count": 1,
   "metadata": {
    "collapsed": true
   },
   "outputs": [],
   "source": [
    "#%reload_ext autoreload\n",
    "#%autoreload 2\n",
    "from algae_app.models import *\n",
    "from django.db.models import Q, Sum, Count\n",
    "import pandas as pd\n",
    "from django.utils import timezone\n",
    "from django.core.files import File\n",
    "import cv2\n",
    "import uuid\n",
    "import numpy as np\n",
    "import os"
   ]
  },
  {
   "cell_type": "code",
   "execution_count": 2,
   "metadata": {},
   "outputs": [
    {
     "name": "stdout",
     "output_type": "stream",
     "text": [
      "cd /root/algae2/algae_project\n",
      "removing /root/algae2/algae_project/db.sqlite3\n",
      "cd /root/algae2/algae_project/algae_app/migrations\n",
      "removing /root/algae2/algae_project/algae_app/migrations/0001_initial.py\n",
      "removing /root/algae2/algae_project/algae_app/migrations/__init__.pyc\n",
      "removing /root/algae2/algae_project/algae_app/migrations/0001_initial.pyc\n",
      "Migrations for 'algae_app':\n",
      "  0001_initial.py:\n",
      "    - Create model Count\n",
      "    - Create model LabelImage\n",
      "    - Create model ObjType\n",
      "    - Create model RawImage\n",
      "    - Create model RecallImage\n",
      "    - Add field raw to labelimage\n",
      "    - Add field obj_type to count\n",
      "    - Add field recall to count\n",
      "\n",
      "Operations to perform:\n",
      "  Apply all migrations: admin, contenttypes, algae_app, auth, sessions\n",
      "Running migrations:\n",
      "  Rendering model states... DONE\n",
      "  Applying contenttypes.0001_initial... OK\n",
      "  Applying auth.0001_initial... OK\n",
      "  Applying admin.0001_initial... OK\n",
      "  Applying admin.0002_logentry_remove_auto_add... OK\n",
      "  Applying algae_app.0001_initial... OK\n",
      "  Applying contenttypes.0002_remove_content_type_name... OK\n",
      "  Applying auth.0002_alter_permission_name_max_length... OK\n",
      "  Applying auth.0003_alter_user_email_max_length... OK\n",
      "  Applying auth.0004_alter_user_username_opts... OK\n",
      "  Applying auth.0005_alter_user_last_login_null... OK\n",
      "  Applying auth.0006_require_contenttypes_0002... OK\n",
      "  Applying auth.0007_alter_validators_add_error_messages... OK\n",
      "  Applying sessions.0001_initial... OK\n",
      "\n"
     ]
    }
   ],
   "source": [
    "APP_NAME=\"algae_app\"\n",
    "ROOT_PATH=os.path.abspath(\".\")\n",
    "\n",
    "##clear migrations and database\n",
    "import fnmatch\n",
    "cd=ROOT_PATH\n",
    "print \"cd %s\"%cd\n",
    "for f in os.listdir(cd):\n",
    "    if fnmatch.fnmatch(f, '*.sqlite3'):\n",
    "        print \"removing %s\"%(os.path.join(ROOT_PATH,f))\n",
    "        os.remove(os.path.join(cd,f))\n",
    "\n",
    "cd=os.path.join(ROOT_PATH,APP_NAME,\"migrations\")\n",
    "print \"cd %s\"%cd\n",
    "for f in os.listdir(cd):\n",
    "    if fnmatch.fnmatch(f, '*.pyc'):\n",
    "        print \"removing %s\"%(os.path.join(cd,f))\n",
    "        os.remove(os.path.join(cd,f))\n",
    "    elif fnmatch.fnmatch(f, '0*.py'):\n",
    "        print \"removing %s\"%(os.path.join(cd,f))\n",
    "        os.remove(os.path.join(cd,f))\n",
    "\n",
    "import sys\n",
    "import subprocess\n",
    "manage = os.path.join(ROOT_PATH , \"manage.py\")\n",
    "print subprocess.check_output([sys.executable, manage, \"makemigrations\",\"--noinput\"])\n",
    "print subprocess.check_output([sys.executable, manage, \"migrate\",\"--noinput\"])"
   ]
  },
  {
   "cell_type": "code",
   "execution_count": 3,
   "metadata": {},
   "outputs": [
    {
     "name": "stdout",
     "output_type": "stream",
     "text": [
      "creating [admin] in User Table\n"
     ]
    }
   ],
   "source": [
    "from django.contrib.auth.models import User\n",
    "if User.objects.filter(username='admin').exists():\n",
    "    print \"[admin] is already in User Table\"\n",
    "    admin=User.objects.get(username='admin')\n",
    "else:\n",
    "    print \"creating [admin] in User Table\"\n",
    "    admin=User.objects.create_user('admin', password='qwer1234')\n",
    "    admin.is_superuser=True\n",
    "    admin.is_staff=True\n",
    "    admin.save()"
   ]
  },
  {
   "cell_type": "code",
   "execution_count": null,
   "metadata": {
    "collapsed": true
   },
   "outputs": [],
   "source": []
  }
 ],
 "metadata": {
  "anaconda-cloud": {},
  "kernelspec": {
   "display_name": "Django Shell-Plus",
   "language": "python",
   "name": "django_extensions"
  },
  "language_info": {
   "codemirror_mode": {
    "name": "ipython",
    "version": 2
   },
   "file_extension": ".py",
   "mimetype": "text/x-python",
   "name": "python",
   "nbconvert_exporter": "python",
   "pygments_lexer": "ipython2",
   "version": "2.7.12"
  }
 },
 "nbformat": 4,
 "nbformat_minor": 1
}
