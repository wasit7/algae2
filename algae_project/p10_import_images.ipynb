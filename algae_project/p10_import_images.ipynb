{
 "cells": [
  {
   "cell_type": "code",
   "execution_count": 1,
   "metadata": {},
   "outputs": [
    {
     "ename": "ImportError",
     "evalue": "No module named skimage.feature",
     "output_type": "error",
     "traceback": [
      "\u001b[0;31m---------------------------------------------------------------------------\u001b[0m",
      "\u001b[0;31mImportError\u001b[0m                               Traceback (most recent call last)",
      "\u001b[0;32m<ipython-input-1-b693b8ab5e33>\u001b[0m in \u001b[0;36m<module>\u001b[0;34m()\u001b[0m\n\u001b[1;32m      4\u001b[0m \u001b[0;32mimport\u001b[0m \u001b[0mnumpy\u001b[0m \u001b[0;32mas\u001b[0m \u001b[0mnp\u001b[0m\u001b[0;34m\u001b[0m\u001b[0m\n\u001b[1;32m      5\u001b[0m \u001b[0;32mimport\u001b[0m \u001b[0mcv2\u001b[0m\u001b[0;34m\u001b[0m\u001b[0m\n\u001b[0;32m----> 6\u001b[0;31m \u001b[0;32mfrom\u001b[0m \u001b[0mskimage\u001b[0m\u001b[0;34m.\u001b[0m\u001b[0mfeature\u001b[0m \u001b[0;32mimport\u001b[0m \u001b[0mlocal_binary_pattern\u001b[0m\u001b[0;34m\u001b[0m\u001b[0m\n\u001b[0m\u001b[1;32m      7\u001b[0m \u001b[0;31m#from algae_core import cmap\u001b[0m\u001b[0;34m\u001b[0m\u001b[0;34m\u001b[0m\u001b[0m\n\u001b[1;32m      8\u001b[0m \u001b[0;32mimport\u001b[0m \u001b[0mpickle\u001b[0m\u001b[0;34m\u001b[0m\u001b[0m\n",
      "\u001b[0;31mImportError\u001b[0m: No module named skimage.feature"
     ]
    }
   ],
   "source": [
    "hws=3 # half window size\n",
    "batch_size=5 # batch size\n",
    "\n",
    "import numpy as np\n",
    "import cv2\n",
    "from skimage.feature import local_binary_pattern\n",
    "#from algae_core import cmap\n",
    "import pickle\n",
    "import os, fnmatch\n",
    "\n",
    "#lbp\n",
    "radius = 3\n",
    "cmax=640\n",
    "rmax=480\n",
    "clmax=2\n",
    "def get_image_pair(file_pair):\n",
    "    \"\"\" \"\"\"\n",
    "    oim=cv2.imread(file_pair['raw'])#BGR\n",
    "    im=cv2.resize(oim, (cmax,rmax),interpolation = cv2.INTER_CUBIC) \n",
    "       \n",
    "    ocl=cv2.imread(file_pair['label'],0)\n",
    "    cl=cv2.resize(ocl, (cmax,rmax),interpolation = cv2.INTER_NEAREST )\n",
    "    #print cl.shape\n",
    "    if cl is None:# not found\n",
    "         cl=np.zeros( (im.shape[0],im.shape[1]),dtype=np.uint8 )\n",
    "    \n",
    "    print \"raw: %s, label: %s\"%(file_pair['raw'], file_pair['label'])\n",
    "    \n",
    "    im_grey=cv2.cvtColor(im, cv2.COLOR_BGR2GRAY)\n",
    "    lbp = local_binary_pattern( im_grey, 8 * radius, radius, 'uniform')\n",
    "    #cv2.imshow(\"lbp\", lbp)\n",
    "    return cl,im,lbp\n",
    "\n",
    "def get_xy(train_pairs):\n",
    "    xrmax= ( (rmax-2*hws)*(cmax-2*hws)*len(train_pairs) )\n",
    "    xcmax= 3+(2*hws)**2    \n",
    "    x=np.zeros((xrmax,xcmax), dtype=np.uint8)\n",
    "    \n",
    "    yrmax= ( (rmax-2*hws)*(cmax-2*hws)*len(train_pairs) )\n",
    "    y=np.zeros((yrmax), dtype=np.uint8)\n",
    "    k=0\n",
    "    for count,i in enumerate(train_pairs):    \n",
    "        #print \"------- processed %d from %d\"%(count,len(train_pairs))\n",
    "        cl,im,lbp=get_image_pair(i)\n",
    "        #show_overlay(cl,im)\n",
    "        if im.shape[0]!=rmax or im.shape[1]!=cmax or lbp.shape[0]!=rmax or lbp.shape[1]!=cmax:\n",
    "            print \"Error: image pair has missmatch size.\"\n",
    "        for r in xrange(hws,lbp.shape[0]-hws):\n",
    "            for c in xrange(hws,lbp.shape[1]-hws):\n",
    "                xrow=np.concatenate([im[r,c],\n",
    "                        lbp[r-hws:r+hws,c-hws:c+hws].reshape(1,-1)[0],])\n",
    "                x[k,:]=xrow\n",
    "                y[k]=cl[r,c]\n",
    "                k+=1\n",
    "    return x,y"
   ]
  },
  {
   "cell_type": "code",
   "execution_count": null,
   "metadata": {
    "collapsed": true
   },
   "outputs": [],
   "source": [
    "#%reload_ext autoreload\n",
    "#%autoreload 2\n",
    "from algae_app.models import *\n",
    "from django.db.models import Q, Sum, Count\n",
    "import pandas as pd\n",
    "from django.utils import timezone\n",
    "from django.core.files import File\n",
    "import cv2\n",
    "import uuid\n",
    "import numpy as np"
   ]
  },
  {
   "cell_type": "code",
   "execution_count": null,
   "metadata": {},
   "outputs": [],
   "source": [
    "pwd"
   ]
  },
  {
   "cell_type": "code",
   "execution_count": null,
   "metadata": {},
   "outputs": [],
   "source": [
    "import os, fnmatch\n",
    "#dataset_path=\"C:\\\\Users\\\\Wasit\\\\Google Drive\\\\Projects\\\\2014_algae\\\\dataset_2016_sept_labelled\\\\dataset\"\n",
    "dataset_path=\"/root/dataset\"\n",
    "os.listdir(dataset_path)"
   ]
  },
  {
   "cell_type": "code",
   "execution_count": null,
   "metadata": {},
   "outputs": [],
   "source": [
    "raw_files=fnmatch.filter(os.listdir(dataset_path), '*.jpg')\n",
    "raw_list=[i[:-4] for i in raw_files]\n",
    "\n",
    "label_files=fnmatch.filter(os.listdir(dataset_path), '*.png')\n",
    "label_list={i[:-4]:None for i in label_files}\n",
    "\n",
    "train_pairs=[]\n",
    "for count,i in enumerate(raw_list):\n",
    "    if i in label_list:\n",
    "        train_pairs.append({\n",
    "            'raw': os.path.join(dataset_path,i)+'.jpg',\n",
    "            'label': os.path.join(dataset_path,i)+'.png',\n",
    "            'recall': os.path.join(dataset_path,i+\"_recall\")+'.jpg',\n",
    "        })\n",
    "        \n",
    "cmap=np.array([  \n",
    "    ( 0  , 255, 255,  ),\n",
    "    ( 14 , 127, 255,  ),\n",
    "    ( 44 , 160, 44 ,  ),\n",
    "    ( 40 , 39 , 214,  ),\n",
    "    ( 0  , 0  , 255,  ),\n",
    "    ( 0  , 255, 0  ,  ),\n",
    "    ( 194, 119, 227,  ),\n",
    "    ( 255, 0  , 0  ,  ),\n",
    "    ( 34 , 189, 188,  ),\n",
    "    ( 207, 190, 23 ,  ),])\n"
   ]
  },
  {
   "cell_type": "code",
   "execution_count": null,
   "metadata": {},
   "outputs": [],
   "source": [
    "with open('forest.pic','rb') as f:\n",
    "    forest = pickle.load(f)\n",
    "    \n",
    "for i in train_pairs[:10]:\n",
    "    raw=RawImage()\n",
    "    fname=i['raw']\n",
    "    print fname\n",
    "    raw.img.save(fname, File(open(fname, 'rb')))\n",
    "    \n",
    "    label=LabelImage(raw=raw)\n",
    "    fname=i['label']\n",
    "    label.img.save(fname, File(open(fname, 'rb')))\n",
    "    \n",
    "    x,y=get_xy( [i] )\n",
    "    oim=cv2.imread(i['raw'])#BGR\n",
    "    im=cv2.resize(oim, (cmax,rmax),interpolation = cv2.INTER_CUBIC) \n",
    "    cl_p=forest.predict( x )\n",
    "    cl_p.resize((rmax-2*hws,cmax-2*hws))\n",
    "    #cl_p=cv2.imread(i['label'],cv2.CV_LOAD_IMAGE_GRAYSCALE)\n",
    "    ol=im.copy()\n",
    "    algae_pixel=0\n",
    "    for r in xrange(rmax-2*hws):\n",
    "        for c in xrange(cmax-2*hws):\n",
    "            predicting_class=cl_p[r,c]\n",
    "            if predicting_class>0:\n",
    "                ol[r+hws,c+hws] = cmap[ predicting_class-1 ]\n",
    "                algae_pixel+=1\n",
    "    ol_rgb = cv2.cvtColor(ol, cv2.COLOR_BGR2RGB)\n",
    "\n",
    "    temp_fname=str(uuid.uuid4())+'.jpg'\n",
    "    cv2.imwrite(temp_fname, ol)\n",
    "    \n",
    "    recall=RecallImage(raw=raw,algae_pixel=algae_pixel)\n",
    "    fname=i['recall']\n",
    "    recall.img.save(fname, File(open(temp_fname, 'rb')))\n",
    "    \n",
    "    os.remove(temp_fname)"
   ]
  },
  {
   "cell_type": "markdown",
   "metadata": {},
   "source": [
    "# End"
   ]
  },
  {
   "cell_type": "code",
   "execution_count": null,
   "metadata": {},
   "outputs": [],
   "source": [
    "recall.img.name"
   ]
  },
  {
   "cell_type": "code",
   "execution_count": null,
   "metadata": {},
   "outputs": [],
   "source": [
    "recall.img.path"
   ]
  },
  {
   "cell_type": "code",
   "execution_count": null,
   "metadata": {},
   "outputs": [],
   "source": [
    "oim.shape"
   ]
  },
  {
   "cell_type": "code",
   "execution_count": null,
   "metadata": {},
   "outputs": [],
   "source": [
    "im.shape"
   ]
  },
  {
   "cell_type": "code",
   "execution_count": null,
   "metadata": {},
   "outputs": [],
   "source": [
    "cl_p.shape"
   ]
  },
  {
   "cell_type": "code",
   "execution_count": null,
   "metadata": {},
   "outputs": [],
   "source": [
    "%matplotlib inline\n",
    "import numpy as np\n",
    "from matplotlib import pyplot as plt\n",
    "\n",
    "cmap=np.array([  \n",
    "    ( 0  , 255, 255,  ),\n",
    "    ( 14 , 127, 255,  ),\n",
    "    ( 44 , 160, 44 ,  ),\n",
    "    ( 40 , 39 , 214,  ),\n",
    "    ( 0  , 0  , 255,  ),\n",
    "    ( 0  , 255, 0  ,  ),\n",
    "    ( 194, 119, 227,  ),\n",
    "    ( 255, 0  , 0  ,  ),\n",
    "    ( 34 , 189, 188,  ),\n",
    "    ( 207, 190, 23 ,  ),])"
   ]
  },
  {
   "cell_type": "code",
   "execution_count": null,
   "metadata": {},
   "outputs": [],
   "source": [
    "#dummy labelling for debug only\n",
    "\n",
    "hws=3\n",
    "cmax=640\n",
    "rmax=480\n",
    "oim=cv2.imread(i['raw'])#BGR\n",
    "im=cv2.resize(oim, (cmax,rmax),interpolation = cv2.INTER_CUBIC) \n",
    "#cl_p=forest.predict( x )\n",
    "#cl_p.resize((rmax-2*hws,cmax-2*hws))\n",
    "cl_p=cv2.imread(i['label'],cv2.CV_LOAD_IMAGE_GRAYSCALE)\n",
    "cl_p=cv2.resize(cl_p, (cmax,rmax),interpolation = cv2.INTER_NEAREST) \n",
    "ol=im.copy()\n",
    "for r in xrange(rmax-2*hws):\n",
    "    for c in xrange(cmax-2*hws):\n",
    "        predicting_class=cl_p[r,c]\n",
    "        if predicting_class>0:\n",
    "            ol[r+hws,c+hws] = cmap[ predicting_class-1 ]\n",
    "ol_rgb = cv2.cvtColor(ol, cv2.COLOR_BGR2RGB)\n",
    "\n",
    "temp_fname=str(uuid.uuid4())+'.jpg'\n",
    "cv2.imwrite(temp_fname, ol_rgb)\n",
    "os.remove(temp_fname)\n",
    "plt.imshow(ol_rgb)\n",
    "plt.show()\n"
   ]
  },
  {
   "cell_type": "code",
   "execution_count": null,
   "metadata": {
    "collapsed": true
   },
   "outputs": [],
   "source": [
    "x=uuid.uuid4()"
   ]
  },
  {
   "cell_type": "code",
   "execution_count": null,
   "metadata": {
    "collapsed": true
   },
   "outputs": [],
   "source": [
    "\n"
   ]
  },
  {
   "cell_type": "code",
   "execution_count": null,
   "metadata": {
    "collapsed": true
   },
   "outputs": [],
   "source": []
  }
 ],
 "metadata": {
  "anaconda-cloud": {},
  "kernelspec": {
   "display_name": "Django Shell-Plus",
   "language": "python",
   "name": "django_extensions"
  },
  "language_info": {
   "codemirror_mode": {
    "name": "ipython",
    "version": 2
   },
   "file_extension": ".py",
   "mimetype": "text/x-python",
   "name": "python",
   "nbconvert_exporter": "python",
   "pygments_lexer": "ipython2",
   "version": "2.7.12"
  }
 },
 "nbformat": 4,
 "nbformat_minor": 1
}
